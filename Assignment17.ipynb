{
 "cells": [
  {
   "cell_type": "code",
   "execution_count": 7,
   "metadata": {},
   "outputs": [
    {
     "name": "stdout",
     "output_type": "stream",
     "text": [
      "The value of Z-score is: 3.2\n",
      "The value of z_alpha is: 1.6448536269514722\n"
     ]
    }
   ],
   "source": [
    "#Question 1:\n",
    "\n",
    "#Import the required libraries\n",
    "import math\n",
    "import scipy.stats as st\n",
    "\n",
    "#The population mean is given as 100, standard deviation as 15, sample size as 36 and sample mean as 108\n",
    "μ = 100\n",
    "sd = 15\n",
    "n = 36\n",
    "x = 108\n",
    "\n",
    "#Null Hypothesis H0 can be defined as H0:  μ = 100\n",
    "#Alternate Hypothesis H1 can be defined as H1:  μ >= 100\n",
    "#The significance level alpha(α) is not given so let's assume it to be .05\n",
    "\n",
    "#Calculate the Z-score\n",
    "Z = (x - μ)/(sd/math.sqrt(n))\n",
    "\n",
    "print(\"The value of Z-score is:\", Z)\n",
    "\n",
    "#By looking at z- table,p-value associated with 3.20 is 0.9993 i.e. probability of having value less than 108 is 0.9993\n",
    "#and more than or equals to 108 is (1-0.9993)=0.0007\n",
    "#Since it is less than .05, so we reject the null hypothesis H0\n",
    "\n",
    "#We can also calculate z-alpha as below. Since the Z-score value is more than z-alpha, we reject the null hypothesis H0\n",
    "z_alpha = st.norm.ppf(0.95)\n",
    "print(\"The value of z_alpha is:\", z_alpha)"
   ]
  },
  {
   "cell_type": "code",
   "execution_count": 11,
   "metadata": {},
   "outputs": [
    {
     "name": "stdout",
     "output_type": "stream",
     "text": [
      "The expected value of the difference between all possible sample proportions is: 0.050000000000000044\n",
      "The standard deviation of the difference between sample proportions is: 0.07061869440877536\n",
      "The Z-score value is: -0.7080278164104213\n"
     ]
    }
   ],
   "source": [
    "#Question 2:\n",
    "\n",
    "#Import the required libraries\n",
    "\n",
    "import math\n",
    "\n",
    "#Let P1 be the proportion of Republican voters in State 1\n",
    "#Let P2 be the proportion of Republican voters in State 2\n",
    "#Let n1 be the sample size for State 1\n",
    "#Let n2 be the sample size for State 2\n",
    "\n",
    "P1 = 0.52\n",
    "P2 = 0.47\n",
    "n1 = n2 = 100\n",
    "\n",
    "#Assumptions:\n",
    "#1. The population size is relative large in comparison to sample size. Here, the sample size is 100 and the state population would be much larger than this\n",
    "#2. The samples from each population are big enough to justify using normal distribution. Here, n1*P1 > 10, n1*(1-P1) >10, n2*P2 >10, n2*(1-P2) > 10. \n",
    "#3. The samples are independent i.e. the observations in population 1 are not affected by observations in population 2\n",
    "\n",
    "#Given the assumptions, we know:\n",
    "#The set of differences between sample proportions will be normally distributed\n",
    "#The expected value of the difference between all possible sample proportions is equal to the difference between population proportions. Thus, E(p1 - p2) = P1 - P2\n",
    "\n",
    "EP1P2 = P1 - P2\n",
    "\n",
    "print(\"The expected value of the difference between all possible sample proportions is:\", EP1P2)\n",
    "\n",
    "#The standard deviation of the difference between sample proportions is \n",
    "sd = math.sqrt((P1*(1-P1)/n1) + P2*(1-P2)/n2)\n",
    "print (\"The standard deviation of the difference between sample proportions is:\",sd)\n",
    "\n",
    "#We need to find the probability that P1 is less than P2 or P1 - P2 < 0\n",
    "#Considering (P1 - P2) as random variable, Z-score can be calculated as:\n",
    "x = 0\n",
    "Z = (x - EP1P2)/sd\n",
    "\n",
    "print(\"The Z-score value is:\", Z)\n",
    "\n",
    "#Using z-table, the probability of having Z-score equal to or less than Z = -0.7081 (calculated above) is 0.24\n",
    "\n",
    "#Therefore the probability that the survey will show a greater percentage of Republican voters in the second state than in the first state is 0.24"
   ]
  },
  {
   "cell_type": "code",
   "execution_count": 13,
   "metadata": {},
   "outputs": [
    {
     "name": "stdout",
     "output_type": "stream",
     "text": [
      "The value of Z-score is: 0.35406698564593303\n"
     ]
    }
   ],
   "source": [
    "#Question 3:\n",
    "\n",
    "#The population mean is given as 1026, my SAT score 1100 and standard deviation as 209\n",
    "μ = 1026\n",
    "sd = 209\n",
    "x = 1100\n",
    "\n",
    "#Calculate the Z-score\n",
    "\n",
    "Z = (x - μ)/sd\n",
    "\n",
    "print(\"The value of Z-score is:\", Z)\n",
    "\n",
    "#By looking at the Z-score table, the probability value for Z-score = 0.3541 (calculated above) is .6368\n",
    "#Therefore, you scored better than 63.68% of the test takers"
   ]
  },
  {
   "cell_type": "code",
   "execution_count": null,
   "metadata": {},
   "outputs": [],
   "source": []
  }
 ],
 "metadata": {
  "kernelspec": {
   "display_name": "Python 3",
   "language": "python",
   "name": "python3"
  },
  "language_info": {
   "codemirror_mode": {
    "name": "ipython",
    "version": 3
   },
   "file_extension": ".py",
   "mimetype": "text/x-python",
   "name": "python",
   "nbconvert_exporter": "python",
   "pygments_lexer": "ipython3",
   "version": "3.7.2"
  }
 },
 "nbformat": 4,
 "nbformat_minor": 2
}
